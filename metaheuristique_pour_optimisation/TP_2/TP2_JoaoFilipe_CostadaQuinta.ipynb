{
 "cells": [
  {
   "cell_type": "code",
   "execution_count": 55,
   "id": "0bb89d7b",
   "metadata": {},
   "outputs": [],
   "source": [
    "import numpy as np\n",
    "import math\n",
    "import random"
   ]
  },
  {
   "cell_type": "code",
   "execution_count": 56,
   "id": "86e0ef72",
   "metadata": {},
   "outputs": [],
   "source": [
    "# size of problem\n",
    "n = 12\n",
    "\n",
    "# drs is a distance between locations r and s\n",
    "D = np.array([[0, 1, 2, 3, 1, 2, 3, 4, 2, 3, 4, 5], \n",
    "              [1, 0, 1, 2, 2, 1, 2, 3, 3, 2, 3, 4],\n",
    "              [2, 1, 0, 1, 3, 2, 1, 2, 4, 3, 2, 3],\n",
    "              [3, 2, 1, 0, 4, 3, 2, 1, 5, 4, 3, 2],\n",
    "              [1, 2, 3, 4, 0, 1, 2, 3, 1, 2, 3, 4],\n",
    "              [2, 1, 2, 3, 1, 0, 1, 2, 2, 1, 2, 3],\n",
    "              [3, 2, 1, 2, 2, 1, 0, 1, 3, 2, 1, 2],\n",
    "              [4, 3, 2, 1, 3, 2, 1, 0, 4, 3, 2, 1],\n",
    "              [2, 3, 4, 5, 1, 2, 3, 4, 0, 1, 2, 3],\n",
    "              [3, 2, 3, 4, 2, 1, 2, 3, 1, 0, 1, 2],\n",
    "              [4, 3, 2, 3, 3, 2, 1, 2, 2, 1, 0, 1],\n",
    "              [5, 4, 3, 2, 4, 3, 2, 1, 3, 2, 1, 0]])\n",
    "\n",
    "# wij is the flow between facilities i and j\n",
    "W = np.array([[0, 5, 2, 4, 1, 0, 0, 6, 2, 1, 1, 1],\n",
    "              [5, 0, 3, 0, 2, 2, 2, 0, 4, 5, 0, 0],\n",
    "              [2, 3, 0, 0, 0, 0, 0, 5, 5, 2, 2, 2],\n",
    "              [4, 0, 0, 0, 5, 2, 2, 10, 0, 0, 5, 5],\n",
    "              [1, 2, 0, 5, 0, 10, 0, 0, 0, 5, 1, 1],\n",
    "              [0, 2, 0, 2, 10, 0, 5, 1, 1, 5, 4, 0],\n",
    "              [0, 2, 0, 2, 0, 5, 0, 10, 5, 2, 3, 3],\n",
    "              [6, 0, 5, 10, 0, 1, 10, 0, 0, 0, 5, 0],\n",
    "              [2, 4, 5, 0, 0, 1, 5, 0, 0, 0, 10, 10],\n",
    "              [1, 5, 2, 0, 5, 5, 2, 0, 0, 0, 5, 0],\n",
    "              [1, 0, 2, 5, 1, 4, 3, 5, 10, 5, 0, 2],\n",
    "              [1, 0, 2, 5, 1, 0, 3, 0, 10, 0, 2, 0]])\n",
    "\n",
    "# a state will be of form : [12,11,10,9,8,7,6,5,4,3,2,1]\n",
    "# it means that:\n",
    "# facility 12 is in location 1\n",
    "# facility 11 is in location 2\n",
    "# facility 10 is in location 3\n",
    "\n",
    "# ...\n",
    "\n",
    "# facility s[i] is in location i"
   ]
  },
  {
   "cell_type": "code",
   "execution_count": 67,
   "id": "c68b4f19",
   "metadata": {},
   "outputs": [],
   "source": [
    "# functions \n",
    "\n",
    "def balancedDice(N):\n",
    "    # taken from tp0\n",
    "    return math.floor(random.random() * N)\n",
    "\n",
    "def generate_random_state():\n",
    "    # create an array with all the facilities\n",
    "    facilities = [1, 2, 3, 4, 5, 6, 7, 8, 9, 10, 11, 12]\n",
    "    s = []\n",
    "    while len(facilities) > 0:\n",
    "        i = balancedDice(len(facilities))\n",
    "        s.append(facilities[i])\n",
    "        facilities.pop(i)\n",
    "    return s\n",
    "\n",
    "def compute_fitness(s):\n",
    "    total_fit = 0\n",
    "    for i in range(len(s)):\n",
    "        \n",
    "    \n"
   ]
  },
  {
   "cell_type": "code",
   "execution_count": 68,
   "id": "16f44d8b",
   "metadata": {},
   "outputs": [],
   "source": [
    "initial_state = generate_random_state()"
   ]
  },
  {
   "cell_type": "code",
   "execution_count": null,
   "id": "b4eee753",
   "metadata": {},
   "outputs": [],
   "source": []
  }
 ],
 "metadata": {
  "kernelspec": {
   "display_name": "Python 3",
   "language": "python",
   "name": "python3"
  },
  "language_info": {
   "codemirror_mode": {
    "name": "ipython",
    "version": 3
   },
   "file_extension": ".py",
   "mimetype": "text/x-python",
   "name": "python",
   "nbconvert_exporter": "python",
   "pygments_lexer": "ipython3",
   "version": "3.8.8"
  }
 },
 "nbformat": 4,
 "nbformat_minor": 5
}
