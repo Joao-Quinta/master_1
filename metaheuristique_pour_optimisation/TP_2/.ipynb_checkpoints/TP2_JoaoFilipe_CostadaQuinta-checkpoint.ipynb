{
 "cells": [
  {
   "cell_type": "code",
   "execution_count": 50,
   "id": "5f8f6a50",
   "metadata": {},
   "outputs": [],
   "source": [
    "import numpy as np\n",
    "import math"
   ]
  },
  {
   "cell_type": "code",
   "execution_count": 44,
   "id": "65f2dde8",
   "metadata": {},
   "outputs": [],
   "source": [
    "# size of problem\n",
    "n = 12\n",
    "\n",
    "# drs is a distance between locations r and s\n",
    "D = np.array([[0, 1, 2, 3, 1, 2, 3, 4, 2, 3, 4, 5], \n",
    "              [1, 0, 1, 2, 2, 1, 2, 3, 3, 2, 3, 4],\n",
    "              [2, 1, 0, 1, 3, 2, 1, 2, 4, 3, 2, 3],\n",
    "              [3, 2, 1, 0, 4, 3, 2, 1, 5, 4, 3, 2],\n",
    "              [1, 2, 3, 4, 0, 1, 2, 3, 1, 2, 3, 4],\n",
    "              [2, 1, 2, 3, 1, 0, 1, 2, 2, 1, 2, 3],\n",
    "              [3, 2, 1, 2, 2, 1, 0, 1, 3, 2, 1, 2],\n",
    "              [4, 3, 2, 1, 3, 2, 1, 0, 4, 3, 2, 1],\n",
    "              [2, 3, 4, 5, 1, 2, 3, 4, 0, 1, 2, 3],\n",
    "              [3, 2, 3, 4, 2, 1, 2, 3, 1, 0, 1, 2],\n",
    "              [4, 3, 2, 3, 3, 2, 1, 2, 2, 1, 0, 1],\n",
    "              [5, 4, 3, 2, 4, 3, 2, 1, 3, 2, 1, 0]])\n",
    "\n",
    "# wij is the flow between facilities i and j\n",
    "W = np.array([[0, 5, 2, 4, 1, 0, 0, 6, 2, 1, 1, 1],\n",
    "              [5, 0, 3, 0, 2, 2, 2, 0, 4, 5, 0, 0],\n",
    "              [2, 3, 0, 0, 0, 0, 0, 5, 5, 2, 2, 2],\n",
    "              [4, 0, 0, 0, 5, 2, 2, 10, 0, 0, 5, 5],\n",
    "              [1, 2, 0, 5, 0, 10, 0, 0, 0, 5, 1, 1],\n",
    "              [0, 2, 0, 2, 10, 0, 5, 1, 1, 5, 4, 0],\n",
    "              [0, 2, 0, 2, 0, 5, 0, 10, 5, 2, 3, 3],\n",
    "              [6, 0, 5, 10, 0, 1, 10, 0, 0, 0, 5, 0],\n",
    "              [2, 4, 5, 0, 0, 1, 5, 0, 0, 0, 10, 10],\n",
    "              [1, 5, 2, 0, 5, 5, 2, 0, 0, 0, 5, 0],\n",
    "              [1, 0, 2, 5, 1, 4, 3, 5, 10, 5, 0, 2],\n",
    "              [1, 0, 2, 5, 1, 0, 3, 0, 10, 0, 2, 0]])\n",
    "\n",
    "# a state will be of form : [12,11,10,9,8,7,6,5,4,3,2,1]\n",
    "# it means that:\n",
    "# facility 12 is in location 1\n",
    "# facility 11 is in location 2\n",
    "# facility 10 is in location 3\n",
    "\n",
    "# ...\n",
    "\n",
    "# facility s[i] is in location i"
   ]
  },
  {
   "cell_type": "code",
   "execution_count": 49,
   "id": "6d800ef4",
   "metadata": {},
   "outputs": [
    {
     "name": "stdout",
     "output_type": "stream",
     "text": [
      "[ 1  2  3  4  5  6  7  8  9 10 11 12]\n"
     ]
    }
   ],
   "source": [
    "# functions \n",
    "\n",
    "def balancedDice(N):\n",
    "    # taken from tp0\n",
    "    return math.floor(random.random() * N)\n",
    "\n",
    "def generate_random_state(n):\n",
    "    # create an array with all the facilities\n",
    "    facilities = np.arange(n) + 1\n",
    "    s = []\n",
    "    \n",
    "    while facilities.len > 0:\n",
    "        i = balancedDice(facilities.len)\n",
    "        s.append(facilities[i])\n",
    "        np.delete(facilities, i)\n",
    "        \n",
    "    print(facilities)\n",
    "    print(s)\n",
    "generate_random_state(12)"
   ]
  },
  {
   "cell_type": "code",
   "execution_count": null,
   "id": "b9d8f3ee",
   "metadata": {},
   "outputs": [],
   "source": []
  }
 ],
 "metadata": {
  "kernelspec": {
   "display_name": "Python 3",
   "language": "python",
   "name": "python3"
  },
  "language_info": {
   "codemirror_mode": {
    "name": "ipython",
    "version": 3
   },
   "file_extension": ".py",
   "mimetype": "text/x-python",
   "name": "python",
   "nbconvert_exporter": "python",
   "pygments_lexer": "ipython3",
   "version": "3.8.8"
  }
 },
 "nbformat": 4,
 "nbformat_minor": 5
}
