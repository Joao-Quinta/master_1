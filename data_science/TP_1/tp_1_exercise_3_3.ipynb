{
 "cells": [
  {
   "cell_type": "code",
   "execution_count": 1,
   "id": "57d7dd00",
   "metadata": {},
   "outputs": [],
   "source": [
    "import numpy as np"
   ]
  },
  {
   "cell_type": "code",
   "execution_count": 2,
   "id": "cdfa6630",
   "metadata": {},
   "outputs": [],
   "source": [
    "# load data\n",
    "\n",
    "artificialdata_1 = np.load(\"data_tp1/tp1_artificialdata1/data.npy\")\n",
    "artificialdata_2 = np.load(\"data_tp1/tp1_artificialdata1/data.npy\")\n",
    "artificialdata_3 = np.load(\"data_tp1/tp1_artificialdata1/data.npy\")\n",
    "artificialdata_4 = np.load(\"data_tp1/tp1_artificialdata1/data.npy\")\n",
    "digit_data_2 = np.load(\"data_tp1/tp1_digit2/data.npy\")\n",
    "frey_faces_data = np.load(\"data_tp1/tp1_freyfaces/data.npy\")"
   ]
  },
  {
   "cell_type": "code",
   "execution_count": 3,
   "id": "93cdb51d",
   "metadata": {},
   "outputs": [],
   "source": [
    "#compute cov\n",
    "\n",
    "artificialdata_1_cov = np.cov(artificialdata_1)\n",
    "artificialdata_2_cov = np.cov(artificialdata_2)\n",
    "artificialdata_3_cov = np.cov(artificialdata_3)\n",
    "artificialdata_4_cov = np.cov(artificialdata_4)\n",
    "digit_data_2_cov = np.cov(digit_data_2)\n",
    "frey_faces_data_cov = np.cov(frey_faces_data)"
   ]
  },
  {
   "cell_type": "code",
   "execution_count": 4,
   "id": "0ddf2517",
   "metadata": {},
   "outputs": [],
   "source": [
    "#compute eigenvalues\n",
    "\n",
    "artificialdata_1_cov_eig = np.linalg.eig(artificialdata_1_cov)[0]\n",
    "artificialdata_2_cov_eig = np.linalg.eig(artificialdata_2_cov)[0]\n",
    "artificialdata_3_cov_eig = np.linalg.eig(artificialdata_3_cov)[0]\n",
    "artificialdata_4_cov_eig = np.linalg.eig(artificialdata_4_cov)[0]\n",
    "digit_data_2_cov_eig = np.linalg.eig(digit_data_2_cov)[0]\n",
    "frey_faces_data_cov_eig = np.linalg.eig(frey_faces_data_cov)[0]"
   ]
  },
  {
   "cell_type": "code",
   "execution_count": 7,
   "id": "cb5d6d3f",
   "metadata": {
    "scrolled": true
   },
   "outputs": [
    {
     "name": "stdout",
     "output_type": "stream",
     "text": [
      "-0.0\n",
      "-0.0\n",
      "-0.0\n",
      "-0.0\n",
      "-0.0\n",
      "-0.0\n"
     ]
    }
   ],
   "source": [
    "#compute determinant of cov\n",
    "\n",
    "artificialdata_1_cov_det = np.linalg.det(artificialdata_1_cov)\n",
    "artificialdata_2_cov_det = np.linalg.det(artificialdata_2_cov)\n",
    "artificialdata_3_cov_det = np.linalg.det(artificialdata_3_cov)\n",
    "artificialdata_4_cov_det = np.linalg.det(artificialdata_4_cov)\n",
    "digit_data_2_cov_det = np.linalg.det(digit_data_2_cov)\n",
    "frey_faces_data_cov_det = np.linalg.det(frey_faces_data_cov)\n",
    "\n",
    "print(artificialdata_1_cov_det)\n",
    "print(artificialdata_2_cov_det)\n",
    "print(artificialdata_3_cov_det)\n",
    "print(artificialdata_4_cov_det)\n",
    "print(digit_data_2_cov_det)\n",
    "print(frey_faces_data_cov_det)"
   ]
  },
  {
   "cell_type": "code",
   "execution_count": 6,
   "id": "28ec7610",
   "metadata": {
    "scrolled": false
   },
   "outputs": [
    {
     "name": "stdout",
     "output_type": "stream",
     "text": [
      "(-0+0j)\n",
      "(-0+0j)\n",
      "(-0+0j)\n",
      "(-0+0j)\n",
      "(-0+0j)\n",
      "0j\n"
     ]
    }
   ],
   "source": [
    "#compute product of eigenvalues\n",
    "\n",
    "artificialdata_1_cov_eig_prod = np.prod(artificialdata_1_cov_eig)\n",
    "artificialdata_2_cov_eig_prod = np.prod(artificialdata_2_cov_eig)\n",
    "artificialdata_3_cov_eig_prod = np.prod(artificialdata_3_cov_eig)\n",
    "artificialdata_4_cov_eig_prod = np.prod(artificialdata_4_cov_eig)\n",
    "digit_data_2_cov_eig_prod = np.prod(digit_data_2_cov_eig)\n",
    "frey_faces_data_cov_eig_prod = np.prod(frey_faces_data_cov_eig)\n",
    "\n",
    "print(artificialdata_1_cov_eig_prod)\n",
    "print(artificialdata_2_cov_eig_prod)\n",
    "print(artificialdata_3_cov_eig_prod)\n",
    "print(artificialdata_4_cov_eig_prod)\n",
    "print(digit_data_2_cov_eig_prod)\n",
    "print(frey_faces_data_cov_eig_prod)"
   ]
  },
  {
   "cell_type": "code",
   "execution_count": null,
   "id": "ef8357e3",
   "metadata": {},
   "outputs": [],
   "source": []
  }
 ],
 "metadata": {
  "kernelspec": {
   "display_name": "Python 3",
   "language": "python",
   "name": "python3"
  },
  "language_info": {
   "codemirror_mode": {
    "name": "ipython",
    "version": 3
   },
   "file_extension": ".py",
   "mimetype": "text/x-python",
   "name": "python",
   "nbconvert_exporter": "python",
   "pygments_lexer": "ipython3",
   "version": "3.8.8"
  }
 },
 "nbformat": 4,
 "nbformat_minor": 5
}
