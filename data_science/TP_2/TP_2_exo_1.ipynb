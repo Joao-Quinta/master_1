{
 "cells": [
  {
   "cell_type": "code",
   "execution_count": 46,
   "id": "b79b885d",
   "metadata": {},
   "outputs": [],
   "source": [
    "import numpy as np\n",
    "import matplotlib.pyplot as plt\n",
    "import copy\n",
    "import math\n",
    "import random\n",
    "from scipy.stats import norm"
   ]
  },
  {
   "cell_type": "code",
   "execution_count": 47,
   "id": "fd7ed5e1",
   "metadata": {},
   "outputs": [
    {
     "name": "stdout",
     "output_type": "stream",
     "text": [
      "distribution 1 : N(15,64)\n",
      "expected value :  15.070380826301939\n",
      "variance :  64.79330787461663\n",
      "standard deviation :  8.049429040287059\n",
      "\n",
      "distribution 1 : N(36,121)\n",
      "expected value :  35.898575215666895\n",
      "variance :  120.22291001588633\n",
      "standard deviation :  10.964620833201955\n"
     ]
    }
   ],
   "source": [
    "# exercice 1.2\n",
    "\n",
    "mu1, mu2 = 15, 36\n",
    "sigma1, sigma2 = np.sqrt(64), np.sqrt(121)\n",
    "\n",
    "normal1 = np.random.normal(mu1, sigma1, 10000)\n",
    "normal2 = np.random.normal(mu2, sigma2, 10000)\n",
    "\n",
    "\n",
    "e_value1, e_value2 = np.sum(normal1)/10000, np.sum(normal2)/10000\n",
    "var1, var2 = (np.sum(np.square(normal1))/10000) - (e_value1*e_value1), (np.sum(np.square(normal2))/10000) - (e_value2*e_value2)\n",
    "std1, std2 = np.sqrt(var1), np.sqrt(var2)\n",
    "print(\"distribution 1 : N(15,64)\")\n",
    "print(\"expected value : \", e_value1)\n",
    "print(\"variance : \", var1)\n",
    "print(\"standard deviation : \", std1)\n",
    "print()\n",
    "print(\"distribution 1 : N(36,121)\")\n",
    "print(\"expected value : \", e_value2)\n",
    "print(\"variance : \", var2)\n",
    "print(\"standard deviation : \", std2)"
   ]
  },
  {
   "cell_type": "code",
   "execution_count": 48,
   "id": "206d47ab",
   "metadata": {},
   "outputs": [
    {
     "data": {
      "image/png": "[encoded data removed]",
      "text/plain": [
       "<Figure size 432x288 with 1 Axes>"
      ]
     },
     "metadata": {
      "needs_background": "light"
     },
     "output_type": "display_data"
    }
   ],
   "source": [
    "# Fit a normal distribution to the data:\n",
    "mu, std = norm.fit(normal1)\n",
    "\n",
    "# Plot the histogram.\n",
    "plt.hist(normal1, bins=50, density=False, alpha=0.6, color='b',histtype='bar', ec='black', label='N(15,64)')\n",
    "plt.hist(normal2, bins=50, density=False, alpha=0.6, color='g',histtype='bar', ec='black', label='N(36,121)')\n",
    "plt.axvline(x=e_value1, label='Expected vales', color='black', alpha=1)\n",
    "plt.axvline(x=e_value2, color='black', alpha=1)\n",
    "# Plot the PDF.\n",
    "\n",
    "title = \"Histogram of both distributions\"\n",
    "plt.title(title)\n",
    "plt.legend()\n",
    "plt.show()"
   ]
  },
  {
   "cell_type": "code",
   "execution_count": null,
   "id": "1cd29571",
   "metadata": {},
   "outputs": [],
   "source": []
  }
 ],
 "metadata": {
  "kernelspec": {
   "display_name": "Python 3",
   "language": "python",
   "name": "python3"
  },
  "language_info": {
   "codemirror_mode": {
    "name": "ipython",
    "version": 3
   },
   "file_extension": ".py",
   "mimetype": "text/x-python",
   "name": "python",
   "nbconvert_exporter": "python",
   "pygments_lexer": "ipython3",
   "version": "3.8.8"
  }
 },
 "nbformat": 4,
 "nbformat_minor": 5
}
